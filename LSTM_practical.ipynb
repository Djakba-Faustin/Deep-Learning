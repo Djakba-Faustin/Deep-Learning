{
 "cells": [
  {
   "cell_type": "code",
   "execution_count": 3,
   "metadata": {
    "id": "s6N3guPVsXPe"
   },
   "outputs": [],
   "source": [
    "# LSTM for international airline passengers problem with regression framing\n",
    "import numpy as np\n",
    "import matplotlib.pyplot as plt\n",
    "from pandas import read_csv\n",
    "import math\n",
    "import tensorflow as tf\n",
    "from tensorflow.keras.models import Sequential\n",
    "from tensorflow.keras.layers import Dense\n",
    "from tensorflow.keras.layers import LSTM\n",
    "from sklearn.preprocessing import MinMaxScaler\n",
    "from sklearn.metrics import mean_squared_error"
   ]
  },
  {
   "cell_type": "code",
   "execution_count": 2,
   "metadata": {
    "colab": {
     "base_uri": "https://localhost:8080/"
    },
    "id": "zVcQ888zsPSx",
    "outputId": "e0c8ffff-d124-4925-d127-fcba0f6e772f"
   },
   "outputs": [
    {
     "name": "stdout",
     "output_type": "stream",
     "text": [
      "Mounted at /content/drive\n"
     ]
    }
   ],
   "source": [
    "from google.colab import drive\n",
    "drive.mount('/content/drive')"
   ]
  },
  {
   "cell_type": "code",
   "execution_count": 4,
   "metadata": {
    "id": "S_BmuxUUsZ1J"
   },
   "outputs": [],
   "source": [
    "dataframe = read_csv('drive/MyDrive/airline-passengers.csv', usecols=[1], engine='python')\n"
   ]
  },
  {
   "cell_type": "code",
   "execution_count": 5,
   "metadata": {
    "id": "ZeQHG6vIs6hZ"
   },
   "outputs": [],
   "source": [
    "# convert an array of values into a dataset matrix\n",
    "def create_dataset(dataset, look_back=1):\n",
    "\tdataX, dataY = [], []\n",
    "\tfor i in range(len(dataset)-look_back-1):\n",
    "\t\ta = dataset[i:(i+look_back), 0]\n",
    "\t\tdataX.append(a)\n",
    "\t\tdataY.append(dataset[i + look_back, 0])\n",
    "\treturn np.array(dataX), np.array(dataY)"
   ]
  },
  {
   "cell_type": "code",
   "execution_count": null,
   "metadata": {
    "id": "0YTh00h7sZmH"
   },
   "outputs": [],
   "source": [
    "# fix random seed for reproducibility\n",
    "tf.random.set_seed(7)\n",
    "# load the dataset\n",
    "dataset = dataframe.values\n",
    "dataset = dataset.astype('float32')\n",
    "# normalize the dataset\n",
    "scaler = MinMaxScaler(feature_range=(0, 1))\n",
    "dataset = scaler.fit_transform(dataset)\n",
    "# split into train and test sets\n",
    "train_size = int(len(dataset) * 0.67)\n",
    "test_size = len(dataset) - train_size\n",
    "train, test = dataset[0:train_size,:], dataset[train_size:len(dataset),:]\n",
    "# reshape into X=t and Y=t+1\n",
    "look_back = 1\n",
    "trainX, trainY = create_dataset(train, look_back)\n",
    "testX, testY = create_dataset(test, look_back)\n",
    "# reshape input to be [samples, time steps, features]\n",
    "trainX = np.reshape(trainX, (trainX.shape[0], 1, trainX.shape[1]))\n",
    "testX = np.reshape(testX, (testX.shape[0], 1, testX.shape[1]))"
   ]
  },
  {
   "cell_type": "code",
   "execution_count": 7,
   "metadata": {
    "colab": {
     "base_uri": "https://localhost:8080/"
    },
    "id": "tCEQkbEsrB_O",
    "outputId": "c000e17d-27e4-4b0b-c6a4-b42d6d2905ba"
   },
   "outputs": [
    {
     "name": "stdout",
     "output_type": "stream",
     "text": [
      "Epoch 1/100\n"
     ]
    },
    {
     "name": "stderr",
     "output_type": "stream",
     "text": [
      "/usr/local/lib/python3.10/dist-packages/keras/src/layers/rnn/rnn.py:204: UserWarning: Do not pass an `input_shape`/`input_dim` argument to a layer. When using Sequential models, prefer using an `Input(shape)` object as the first layer in the model instead.\n",
      "  super().__init__(**kwargs)\n"
     ]
    },
    {
     "name": "stdout",
     "output_type": "stream",
     "text": [
      "94/94 - 2s - 26ms/step - loss: 0.0464\n",
      "Epoch 2/100\n",
      "94/94 - 0s - 3ms/step - loss: 0.0241\n",
      "Epoch 3/100\n",
      "94/94 - 0s - 3ms/step - loss: 0.0174\n",
      "Epoch 4/100\n",
      "94/94 - 0s - 3ms/step - loss: 0.0156\n",
      "Epoch 5/100\n",
      "94/94 - 0s - 3ms/step - loss: 0.0146\n",
      "Epoch 6/100\n",
      "94/94 - 0s - 3ms/step - loss: 0.0138\n",
      "Epoch 7/100\n",
      "94/94 - 0s - 4ms/step - loss: 0.0130\n",
      "Epoch 8/100\n",
      "94/94 - 0s - 3ms/step - loss: 0.0121\n",
      "Epoch 9/100\n",
      "94/94 - 0s - 2ms/step - loss: 0.0113\n",
      "Epoch 10/100\n",
      "94/94 - 0s - 3ms/step - loss: 0.0105\n",
      "Epoch 11/100\n",
      "94/94 - 0s - 3ms/step - loss: 0.0097\n",
      "Epoch 12/100\n",
      "94/94 - 0s - 3ms/step - loss: 0.0089\n",
      "Epoch 13/100\n",
      "94/94 - 0s - 2ms/step - loss: 0.0081\n",
      "Epoch 14/100\n",
      "94/94 - 0s - 3ms/step - loss: 0.0073\n",
      "Epoch 15/100\n",
      "94/94 - 0s - 3ms/step - loss: 0.0066\n",
      "Epoch 16/100\n",
      "94/94 - 0s - 3ms/step - loss: 0.0059\n",
      "Epoch 17/100\n",
      "94/94 - 0s - 3ms/step - loss: 0.0052\n",
      "Epoch 18/100\n",
      "94/94 - 0s - 3ms/step - loss: 0.0046\n",
      "Epoch 19/100\n",
      "94/94 - 0s - 3ms/step - loss: 0.0041\n",
      "Epoch 20/100\n",
      "94/94 - 0s - 2ms/step - loss: 0.0037\n",
      "Epoch 21/100\n",
      "94/94 - 0s - 2ms/step - loss: 0.0033\n",
      "Epoch 22/100\n",
      "94/94 - 0s - 3ms/step - loss: 0.0030\n",
      "Epoch 23/100\n",
      "94/94 - 0s - 3ms/step - loss: 0.0027\n",
      "Epoch 24/100\n",
      "94/94 - 0s - 2ms/step - loss: 0.0025\n",
      "Epoch 25/100\n",
      "94/94 - 0s - 2ms/step - loss: 0.0024\n",
      "Epoch 26/100\n",
      "94/94 - 0s - 2ms/step - loss: 0.0022\n",
      "Epoch 27/100\n",
      "94/94 - 0s - 2ms/step - loss: 0.0022\n",
      "Epoch 28/100\n",
      "94/94 - 0s - 3ms/step - loss: 0.0021\n",
      "Epoch 29/100\n",
      "94/94 - 0s - 3ms/step - loss: 0.0021\n",
      "Epoch 30/100\n",
      "94/94 - 0s - 2ms/step - loss: 0.0021\n",
      "Epoch 31/100\n",
      "94/94 - 0s - 3ms/step - loss: 0.0020\n",
      "Epoch 32/100\n",
      "94/94 - 0s - 3ms/step - loss: 0.0020\n",
      "Epoch 33/100\n",
      "94/94 - 0s - 2ms/step - loss: 0.0020\n",
      "Epoch 34/100\n",
      "94/94 - 0s - 2ms/step - loss: 0.0020\n",
      "Epoch 35/100\n",
      "94/94 - 0s - 3ms/step - loss: 0.0020\n",
      "Epoch 36/100\n",
      "94/94 - 0s - 2ms/step - loss: 0.0020\n",
      "Epoch 37/100\n",
      "94/94 - 0s - 2ms/step - loss: 0.0020\n",
      "Epoch 38/100\n",
      "94/94 - 0s - 3ms/step - loss: 0.0020\n",
      "Epoch 39/100\n",
      "94/94 - 0s - 2ms/step - loss: 0.0020\n",
      "Epoch 40/100\n",
      "94/94 - 0s - 2ms/step - loss: 0.0020\n",
      "Epoch 41/100\n",
      "94/94 - 0s - 2ms/step - loss: 0.0020\n",
      "Epoch 42/100\n",
      "94/94 - 0s - 2ms/step - loss: 0.0020\n",
      "Epoch 43/100\n",
      "94/94 - 0s - 2ms/step - loss: 0.0020\n",
      "Epoch 44/100\n",
      "94/94 - 0s - 3ms/step - loss: 0.0020\n",
      "Epoch 45/100\n",
      "94/94 - 0s - 2ms/step - loss: 0.0020\n",
      "Epoch 46/100\n",
      "94/94 - 0s - 2ms/step - loss: 0.0020\n",
      "Epoch 47/100\n",
      "94/94 - 0s - 2ms/step - loss: 0.0020\n",
      "Epoch 48/100\n",
      "94/94 - 0s - 2ms/step - loss: 0.0020\n",
      "Epoch 49/100\n",
      "94/94 - 0s - 2ms/step - loss: 0.0020\n",
      "Epoch 50/100\n",
      "94/94 - 0s - 3ms/step - loss: 0.0020\n",
      "Epoch 51/100\n",
      "94/94 - 0s - 3ms/step - loss: 0.0020\n",
      "Epoch 52/100\n",
      "94/94 - 0s - 3ms/step - loss: 0.0020\n",
      "Epoch 53/100\n",
      "94/94 - 0s - 3ms/step - loss: 0.0020\n",
      "Epoch 54/100\n",
      "94/94 - 0s - 5ms/step - loss: 0.0020\n",
      "Epoch 55/100\n",
      "94/94 - 1s - 8ms/step - loss: 0.0020\n",
      "Epoch 56/100\n",
      "94/94 - 1s - 7ms/step - loss: 0.0020\n",
      "Epoch 57/100\n",
      "94/94 - 1s - 12ms/step - loss: 0.0020\n",
      "Epoch 58/100\n",
      "94/94 - 0s - 5ms/step - loss: 0.0020\n",
      "Epoch 59/100\n",
      "94/94 - 0s - 3ms/step - loss: 0.0020\n",
      "Epoch 60/100\n",
      "94/94 - 0s - 3ms/step - loss: 0.0020\n",
      "Epoch 61/100\n",
      "94/94 - 0s - 2ms/step - loss: 0.0020\n",
      "Epoch 62/100\n",
      "94/94 - 0s - 3ms/step - loss: 0.0020\n",
      "Epoch 63/100\n",
      "94/94 - 0s - 3ms/step - loss: 0.0020\n",
      "Epoch 64/100\n",
      "94/94 - 0s - 3ms/step - loss: 0.0020\n",
      "Epoch 65/100\n",
      "94/94 - 0s - 3ms/step - loss: 0.0020\n",
      "Epoch 66/100\n",
      "94/94 - 0s - 3ms/step - loss: 0.0020\n",
      "Epoch 67/100\n",
      "94/94 - 0s - 3ms/step - loss: 0.0020\n",
      "Epoch 68/100\n",
      "94/94 - 0s - 3ms/step - loss: 0.0020\n",
      "Epoch 69/100\n",
      "94/94 - 0s - 3ms/step - loss: 0.0020\n",
      "Epoch 70/100\n",
      "94/94 - 0s - 3ms/step - loss: 0.0020\n",
      "Epoch 71/100\n",
      "94/94 - 0s - 2ms/step - loss: 0.0020\n",
      "Epoch 72/100\n",
      "94/94 - 0s - 3ms/step - loss: 0.0020\n",
      "Epoch 73/100\n",
      "94/94 - 0s - 3ms/step - loss: 0.0020\n",
      "Epoch 74/100\n",
      "94/94 - 0s - 3ms/step - loss: 0.0020\n",
      "Epoch 75/100\n",
      "94/94 - 0s - 2ms/step - loss: 0.0020\n",
      "Epoch 76/100\n",
      "94/94 - 0s - 2ms/step - loss: 0.0020\n",
      "Epoch 77/100\n",
      "94/94 - 0s - 2ms/step - loss: 0.0020\n",
      "Epoch 78/100\n",
      "94/94 - 0s - 2ms/step - loss: 0.0020\n",
      "Epoch 79/100\n",
      "94/94 - 0s - 2ms/step - loss: 0.0020\n",
      "Epoch 80/100\n",
      "94/94 - 0s - 2ms/step - loss: 0.0020\n",
      "Epoch 81/100\n",
      "94/94 - 0s - 2ms/step - loss: 0.0020\n",
      "Epoch 82/100\n",
      "94/94 - 0s - 2ms/step - loss: 0.0020\n",
      "Epoch 83/100\n",
      "94/94 - 0s - 3ms/step - loss: 0.0020\n",
      "Epoch 84/100\n",
      "94/94 - 0s - 2ms/step - loss: 0.0020\n",
      "Epoch 85/100\n",
      "94/94 - 0s - 2ms/step - loss: 0.0020\n",
      "Epoch 86/100\n",
      "94/94 - 0s - 2ms/step - loss: 0.0020\n",
      "Epoch 87/100\n",
      "94/94 - 0s - 2ms/step - loss: 0.0020\n",
      "Epoch 88/100\n",
      "94/94 - 0s - 3ms/step - loss: 0.0020\n",
      "Epoch 89/100\n",
      "94/94 - 0s - 3ms/step - loss: 0.0020\n",
      "Epoch 90/100\n",
      "94/94 - 0s - 2ms/step - loss: 0.0020\n",
      "Epoch 91/100\n",
      "94/94 - 0s - 2ms/step - loss: 0.0020\n",
      "Epoch 92/100\n",
      "94/94 - 0s - 2ms/step - loss: 0.0020\n",
      "Epoch 93/100\n",
      "94/94 - 0s - 2ms/step - loss: 0.0020\n",
      "Epoch 94/100\n",
      "94/94 - 0s - 2ms/step - loss: 0.0020\n",
      "Epoch 95/100\n",
      "94/94 - 0s - 2ms/step - loss: 0.0020\n",
      "Epoch 96/100\n",
      "94/94 - 0s - 3ms/step - loss: 0.0020\n",
      "Epoch 97/100\n",
      "94/94 - 0s - 2ms/step - loss: 0.0020\n",
      "Epoch 98/100\n",
      "94/94 - 0s - 2ms/step - loss: 0.0020\n",
      "Epoch 99/100\n",
      "94/94 - 0s - 2ms/step - loss: 0.0020\n",
      "Epoch 100/100\n",
      "94/94 - 0s - 3ms/step - loss: 0.0020\n"
     ]
    },
    {
     "data": {
      "text/plain": [
       "<keras.src.callbacks.history.History at 0x78f012004730>"
      ]
     },
     "execution_count": 7,
     "metadata": {},
     "output_type": "execute_result"
    }
   ],
   "source": [
    "# create and fit the LSTM network\n",
    "model = Sequential()\n",
    "model.add(LSTM(4, input_shape=(1, look_back)))\n",
    "model.add(Dense(1))\n",
    "model.compile(loss='mean_squared_error', optimizer='adam')\n",
    "model.fit(trainX, trainY, epochs=100, batch_size=1, verbose=2)\n"
   ]
  },
  {
   "cell_type": "code",
   "execution_count": 8,
   "metadata": {
    "colab": {
     "base_uri": "https://localhost:8080/",
     "height": 501
    },
    "id": "gZLhfKuEsNga",
    "outputId": "bd1cd282-aa15-469b-a343-37bc3385a83c"
   },
   "outputs": [
    {
     "name": "stdout",
     "output_type": "stream",
     "text": [
      "\u001b[1m3/3\u001b[0m \u001b[32m━━━━━━━━━━━━━━━━━━━━\u001b[0m\u001b[37m\u001b[0m \u001b[1m0s\u001b[0m 70ms/step\n",
      "\u001b[1m2/2\u001b[0m \u001b[32m━━━━━━━━━━━━━━━━━━━━\u001b[0m\u001b[37m\u001b[0m \u001b[1m0s\u001b[0m 5ms/step \n",
      "Train Score: 22.76 RMSE\n",
      "Test Score: 50.21 RMSE\n"
     ]
    },
    {
     "data": {
      "image/png": "[encoded data removed]",
      "text/plain": [
       "<Figure size 640x480 with 1 Axes>"
      ]
     },
     "metadata": {},
     "output_type": "display_data"
    }
   ],
   "source": [
    "# make predictions\n",
    "trainPredict = model.predict(trainX)\n",
    "testPredict = model.predict(testX)\n",
    "# invert predictions\n",
    "trainPredict = scaler.inverse_transform(trainPredict)\n",
    "trainY = scaler.inverse_transform([trainY])\n",
    "testPredict = scaler.inverse_transform(testPredict)\n",
    "testY = scaler.inverse_transform([testY])\n",
    "# calculate root mean squared error\n",
    "trainScore = np.sqrt(mean_squared_error(trainY[0], trainPredict[:,0]))\n",
    "print('Train Score: %.2f RMSE' % (trainScore))\n",
    "testScore = np.sqrt(mean_squared_error(testY[0], testPredict[:,0]))\n",
    "print('Test Score: %.2f RMSE' % (testScore))\n",
    "# shift train predictions for plotting\n",
    "trainPredictPlot = np.empty_like(dataset)\n",
    "trainPredictPlot[:, :] = np.nan\n",
    "trainPredictPlot[look_back:len(trainPredict)+look_back, :] = trainPredict\n",
    "# shift test predictions for plotting\n",
    "testPredictPlot = np.empty_like(dataset)\n",
    "testPredictPlot[:, :] = np.nan\n",
    "testPredictPlot[len(trainPredict)+(look_back*2)+1:len(dataset)-1, :] = testPredict\n",
    "# plot baseline and predictions\n",
    "plt.plot(scaler.inverse_transform(dataset))\n",
    "plt.plot(trainPredictPlot)\n",
    "plt.plot(testPredictPlot)\n",
    "plt.show()"
   ]
  }
 ],
 "metadata": {
  "colab": {
   "provenance": []
  },
  "kernelspec": {
   "display_name": "Python 3",
   "name": "python3"
  },
  "language_info": {
   "name": "python"
  }
 },
 "nbformat": 4,
 "nbformat_minor": 0
}
